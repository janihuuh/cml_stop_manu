{
 "cells": [
  {
   "cell_type": "markdown",
   "metadata": {},
   "source": [
    "# TCRGP predictions on CML TKI-stop data\n",
    "\n",
    "Recent clinical studies have shown that 40-50% of CML patients who have achieved a good response to TKI therapy can discontinue the treatment without imminent disease relapse. Most cases relapse within the first 6 months, but late relapses can occur even 12 months after TKI discontinuation. Immunological factors such as high NK cell numbers have been associated with better probability to stay in remission. Based on our previous flow cytometry-based characterization of the immune system, the late relapsing patients resemble more non-relapsing than early relapsing patients. \n",
    "\n",
    "To understand the immunological changes after TKI discontinuation at the single-cell level, we profiled over 90,000 CD45+ lymphocytes using a novel paired single-cell RNA and T cell receptor (TCR) αβ chain (10X Genomics) sequencing method for 11 peripheral blood samples from four imatinib-treated CML patients discontinuing TKI therapy. Two patients stayed in remission during the 24 month follow-up period whereas two patients had late relapse at 10 and 16 months. Samples were sequenced at the time of discontinuation, 6 months and 12 months after therapy stop or at the time of relapse.\n",
    "\n",
    "To study how the anti-viral clonotypes change after TKI discontinuation, we sought to define a machine-learning classifier that could be used as an *in silico* multimer-sorting strategy for our TCR&beta;  data. For this\n",
    "purpose, we have leveraged TCRGP, our recently described Gaussian process method that can predict if TCRs recognize certain epitopes."
   ]
  },
  {
   "cell_type": "code",
   "execution_count": 1,
   "metadata": {},
   "outputs": [],
   "source": [
    "import os\n",
    "os.chdir(\"/Users/hru/Dropbox/cml_stop/src/python/tcrgp/\")"
   ]
  },
  {
   "cell_type": "code",
   "execution_count": 2,
   "metadata": {},
   "outputs": [
    {
     "name": "stderr",
     "output_type": "stream",
     "text": [
      "/Users/hru/anaconda/lib/python3.6/site-packages/multipledispatch/dispatcher.py:24: AmbiguityWarning: \n",
      "Ambiguities exist in dispatched function _expectation\n",
      "\n",
      "The following signatures may result in ambiguous behavior:\n",
      "\t[Gaussian, Identity, NoneType, Kernel, InducingPoints], [Gaussian, Linear, NoneType, Sum, InducingPoints]\n",
      "\n",
      "\n",
      "Consider making the following additions:\n",
      "\n",
      "@dispatch(Gaussian, Identity, NoneType, Sum, InducingPoints)\n",
      "def _expectation(...)\n",
      "  warn(warning_text(dispatcher.name, ambiguities), AmbiguityWarning)\n"
     ]
    }
   ],
   "source": [
    "import tcrgp\n",
    "import pickle\n",
    "import ast\n",
    "import csv\n",
    "import numpy as np\n",
    "from matplotlib import pyplot as plt\n",
    "plt.style.use('fivethirtyeight')\n",
    "\n",
    "import pandas as pd"
   ]
  },
  {
   "cell_type": "markdown",
   "metadata": {},
   "source": [
    "## Set up TCRGP"
   ]
  },
  {
   "cell_type": "markdown",
   "metadata": {},
   "source": [
    "### Get feature representation\n",
    "We have used the principal components of a modified BLOSUM62 matrix as features. \n",
    "We obtained best results when using all d=21 components, but is possible to use a smaller d. It is also possible to use also other features, as long as they have the correct form."
   ]
  },
  {
   "cell_type": "code",
   "execution_count": 3,
   "metadata": {},
   "outputs": [],
   "source": [
    "subsmat = tcrgp.subsmatFromAA2('HENS920102')\n",
    "pc_blo = tcrgp.get_pcs(subsmat,d=21)"
   ]
  },
  {
   "cell_type": "markdown",
   "metadata": {},
   "source": [
    "### Create dictionary of V-genes and CDRs\n",
    "Dictionary contains \n",
    "* all possible V-gene - allele combinations \n",
    "* corresponding cdr1, cdr2 & cdr2.5 sequences"
   ]
  },
  {
   "cell_type": "code",
   "execution_count": 4,
   "metadata": {},
   "outputs": [],
   "source": [
    "cdrs = tcrgp.create_cdr_dict(alignment='imgt',species=['human'])"
   ]
  },
  {
   "cell_type": "markdown",
   "metadata": {},
   "source": [
    "## Set up the selected, epitope-specific data"
   ]
  },
  {
   "cell_type": "markdown",
   "metadata": {},
   "source": [
    "### Retrieve data from VDJdb\n",
    "VDJdb is a curated database of T-cell receptor (TCR) sequences with known antigen specificities. \n",
    "\n",
    "Here we have search for all TCRs, which have confidence score of at least 1.\n",
    "They have been saved to vdjdb_conf1.tsv"
   ]
  },
  {
   "cell_type": "code",
   "execution_count": 5,
   "metadata": {},
   "outputs": [
    {
     "name": "stdout",
     "output_type": "stream",
     "text": [
      "LLWNGPMAV: 223 samples\n",
      "GLCTLVAML: 299 samples\n",
      "RPRGEVRFL: 68 samples\n",
      "PKYVKQNTLKLAT: 56 samples\n",
      "GILGFVFTL: 239 samples\n",
      "KAFSPEVIPMF: 134 samples\n",
      "NLVPMVATV: 413 samples\n",
      "KRWIILGLNK: 212 samples\n",
      "KLVALGINAV: 65 samples\n",
      "TPQDLNTML: 52 samples\n",
      "FLKEKGGL: 104 samples\n",
      "CINGVCWTV: 76 samples\n",
      "TPRVTGGGAM: 184 samples\n",
      "RAKFKQLL: 225 samples\n",
      "GPGHKARVL: 62 samples\n",
      "IPSINVHHY: 65 samples\n",
      "EIYKRWII: 81 samples\n",
      "YVLDHLIVV: 66 samples\n",
      "ATDALMTGY: 152 samples\n",
      "FRDYVDRFYKTLRAEQASQE: 141 samples\n",
      "GTSGSPIVNR: 65 samples\n",
      "GTSGSPIINR: 51 samples\n"
     ]
    }
   ],
   "source": [
    "tcrs_vdj_all = tcrgp.file2dict('data/vdjdb_conf1.tsv',['Species','Gene','Epitope'],['CDR3','V','J','Reference','Meta'])\n",
    "epis_vdj_all = list(tcrs_vdj_all['HomoSapiens']['TRB'].keys())\n",
    "tcrs_vdj = {}\n",
    "for epi in epis_vdj_all:\n",
    "    n_s=len(tcrs_vdj_all['HomoSapiens']['TRB'][epi])\n",
    "    if n_s>=50:\n",
    "        print(epi+': '+str(n_s)+' samples')\n",
    "        tcrs_vdj[epi]=tcrs_vdj_all['HomoSapiens']['TRB'][epi]\n",
    "        for i in range(n_s):\n",
    "            meta = ast.literal_eval(tcrs_vdj[epi][i][4])\n",
    "            sub_id = meta['subject.id']\n",
    "            reference = tcrs_vdj[epi][i][3]\n",
    "            tcrs_vdj[epi][i][3] = reference+'_'+sub_id\n",
    "            tcrs_vdj[epi][i] = tcrs_vdj[epi][i][:-1]\n",
    "            \n",
    "epis_vdj = list(tcrs_vdj.keys())"
   ]
  },
  {
   "cell_type": "code",
   "execution_count": 6,
   "metadata": {},
   "outputs": [
    {
     "name": "stdout",
     "output_type": "stream",
     "text": [
      "Epitope                Epitope gene  Epitope species\n",
      "LLWNGPMAV              NS4B          YellowFeverVirus\n",
      "GLCTLVAML              BMLF1         EBV\n",
      "RPRGEVRFL              VP22          HSV-2\n",
      "PKYVKQNTLKLAT          HA            InfluenzaA\n",
      "GILGFVFTL              M1            InfluenzaA\n",
      "KAFSPEVIPMF            p24           HIV-1\n",
      "NLVPMVATV              p65           CMV\n",
      "KRWIILGLNK             p24           HIV-1\n",
      "KLVALGINAV             NS3           HCV\n",
      "TPQDLNTML              p24           HIV-1\n",
      "FLKEKGGL               Nef           HIV-1\n",
      "CINGVCWTV              NS3           HCV\n",
      "TPRVTGGGAM             p65           CMV\n",
      "RAKFKQLL               BZLF1         EBV\n",
      "GPGHKARVL              p24           HIV-1\n",
      "IPSINVHHY              p65           CMV\n",
      "EIYKRWII               p24           HIV-1\n",
      "YVLDHLIVV              BRLF1         EBV\n",
      "ATDALMTGY              NS3           HCV\n",
      "FRDYVDRFYKTLRAEQASQE   p24           HIV-1\n",
      "GTSGSPIVNR             NS3           DENV1\n",
      "GTSGSPIINR             NS3           DENV3/4\n"
     ]
    }
   ],
   "source": [
    "tcrs_vdj_conds = tcrgp.file2dict('data/vdjdb_conf1.tsv',['Species','Gene','Epitope'],['Epitope gene','Epitope species'])\n",
    "print('{:22s} {:13s} {:s}'.format('Epitope','Epitope gene', 'Epitope species'))\n",
    "for epi in epis_vdj:\n",
    "    row = tcrs_vdj_conds['HomoSapiens']['TRB'][epi][0]\n",
    "    print('{:22s} {:13s} {:s}'.format(epi,row[0],row[1]))"
   ]
  },
  {
   "cell_type": "markdown",
   "metadata": {},
   "source": [
    "### Get control data"
   ]
  },
  {
   "cell_type": "code",
   "execution_count": 7,
   "metadata": {},
   "outputs": [],
   "source": [
    "control_file = 'data/human_pairseqs_v1_parsed_seqs_probs_mq20_clones_random_nbrdists.tsv'\n",
    "store_fields=['va_reps','vb_reps','cdr3a','cdr3b']\n",
    "controls=[]\n",
    "with open(control_file, newline='') as tsvfile:\n",
    "    reader = csv.DictReader(tsvfile,delimiter='\\t')\n",
    "    for row in reader:\n",
    "        entry = [row[s] for s in store_fields]\n",
    "        cA = cdrs['human']['A'][entry[0].split(';')[0]]\n",
    "        cB = cdrs['human']['B'][entry[1].split(';')[0]]\n",
    "        if '*' not in ''.join(cB)+''.join(cA)+entry[2]+entry[3]:\n",
    "            controls.append(entry)\n",
    "            \n",
    "n_controls = len(controls)"
   ]
  },
  {
   "cell_type": "markdown",
   "metadata": {},
   "source": [
    "### Write data files for training\n",
    "Create a separate data file for each epitope. Add epitope-specific TCRs and control TCRs."
   ]
  },
  {
   "cell_type": "code",
   "execution_count": 8,
   "metadata": {},
   "outputs": [],
   "source": [
    "for epi in epis_vdj:\n",
    "    n_e = len(tcrs_vdj[epi])\n",
    "    with open('training_data/vdj_human_'+epi+'.csv','w') as csvfile:\n",
    "        writer = csv.writer(csvfile, delimiter=',')\n",
    "        writer.writerow(['epitope','subject','va','vb','cdr3a','cdr3b'])\n",
    "        for row in tcrs_vdj[epi]:\n",
    "            writer.writerow([epi,row[3],'',row[1],'',row[0]])\n",
    "        for i in np.random.choice(range(n_controls),n_e).astype(int):\n",
    "            writer.writerow(['none','control','',controls[i][1],'',controls[i][3]])"
   ]
  },
  {
   "cell_type": "markdown",
   "metadata": {},
   "source": [
    "## Train and save 7 different models for common viruses \n",
    "Although e.g. HCV and dengue have been proposed to be imortant in some patients' pathogenesis leading to aplastic anemia, in our samples these are not that abundant and thus we focus only on the viral infections that almost all patients (and healthy controls) have witnessed, that are:\n",
    "\n",
    "* InfA (2 epitopes; HA and M1)\n",
    "* CMV (3 epitopes; 3 pp65)\n",
    "* EBV (2 epitopes; BZFL1 and BRLF1)"
   ]
  },
  {
   "cell_type": "code",
   "execution_count": 43,
   "metadata": {},
   "outputs": [],
   "source": [
    "auc, InfA_HA_PKY = tcrgp.train_classifier('training_data/vdj_human_PKYVKQNTLKLAT.csv','human','PKYVKQNTLKLAT',pc_blo,\n",
    "                                     cdr_types=[[],['cdr3']],m_iters=5000,lr=0.005,nZ=0,mbs=0,l3_max=0,\n",
    "                                     va='va',vb='vb',cdr3a='cdr3a',cdr3b='cdr3b',epis='epitope')"
   ]
  },
  {
   "cell_type": "code",
   "execution_count": 47,
   "metadata": {},
   "outputs": [],
   "source": [
    "auc, InfA_M1_GIL = tcrgp.train_classifier('training_data/vdj_human_GILGFVFTL.csv','human','GILGFVFTL',pc_blo,\n",
    "                                     cdr_types=[[],['cdr3']],m_iters=5000,lr=0.005,nZ=0,mbs=0,l3_max=0,\n",
    "                                     va='va',vb='vb',cdr3a='cdr3a',cdr3b='cdr3b',epis='epitope')"
   ]
  },
  {
   "cell_type": "code",
   "execution_count": 50,
   "metadata": {},
   "outputs": [],
   "source": [
    "auc, CMV_p65_NLV = tcrgp.train_classifier('training_data/vdj_human_NLVPMVATV.csv','human','NLVPMVATV',pc_blo,\n",
    "                                     cdr_types=[[],['cdr3']],m_iters=5000,lr=0.005,nZ=0,mbs=0,l3_max=0,\n",
    "                                     va='va',vb='vb',cdr3a='cdr3a',cdr3b='cdr3b',epis='epitope')"
   ]
  },
  {
   "cell_type": "code",
   "execution_count": 52,
   "metadata": {},
   "outputs": [],
   "source": [
    "auc, CMV_p65_TPR = tcrgp.train_classifier('training_data/vdj_human_TPRVTGGGAM.csv','human','TPRVTGGGAM',pc_blo,\n",
    "                                     cdr_types=[[],['cdr3']],m_iters=5000,lr=0.005,nZ=0,mbs=0,l3_max=0,\n",
    "                                     va='va',vb='vb',cdr3a='cdr3a',cdr3b='cdr3b',epis='epitope')"
   ]
  },
  {
   "cell_type": "code",
   "execution_count": 56,
   "metadata": {},
   "outputs": [],
   "source": [
    "auc, EBV_BZLF1_RAF = tcrgp.train_classifier('training_data/vdj_human_RAKFKQLL.csv','human','RAKFKQLL',pc_blo,\n",
    "                                     cdr_types=[[],['cdr3']],m_iters=5000,lr=0.005,nZ=0,mbs=0,l3_max=0,\n",
    "                                     va='va',vb='vb',cdr3a='cdr3a',cdr3b='cdr3b',epis='epitope')"
   ]
  },
  {
   "cell_type": "code",
   "execution_count": 58,
   "metadata": {},
   "outputs": [],
   "source": [
    "auc, CMV_p65_IPS = tcrgp.train_classifier('training_data/vdj_human_IPSINVHHY.csv','human','IPSINVHHY',pc_blo,\n",
    "                                     cdr_types=[[],['cdr3']],m_iters=5000,lr=0.005,nZ=0,mbs=0,l3_max=0,\n",
    "                                     va='va',vb='vb',cdr3a='cdr3a',cdr3b='cdr3b',epis='epitope')"
   ]
  },
  {
   "cell_type": "code",
   "execution_count": 60,
   "metadata": {},
   "outputs": [],
   "source": [
    "auc, EMB_BRLF1_YVL = tcrgp.train_classifier('training_data/vdj_human_YVLDHLIVV.csv','human','YVLDHLIVV',pc_blo,\n",
    "                                     cdr_types=[[],['cdr3']],m_iters=5000,lr=0.005,nZ=0,mbs=0,l3_max=0,\n",
    "                                     va='va',vb='vb',cdr3a='cdr3a',cdr3b='cdr3b',epis='epitope')"
   ]
  },
  {
   "cell_type": "markdown",
   "metadata": {},
   "source": [
    "### Save the models"
   ]
  },
  {
   "cell_type": "code",
   "execution_count": 61,
   "metadata": {},
   "outputs": [],
   "source": [
    "with open('models/models_vdj_InfA_HA_PKY_cdr3b','wb') as f: pickle.dump(InfA_HA_PKY,f)\n",
    "with open('models/models_vdj_InfA_M1_GIL_cdr3b','wb') as f: pickle.dump(InfA_M1_GIL,f)\n",
    "with open('models/models_vdj_CMV_p65_NLV_cdr3b','wb') as f: pickle.dump(CMV_p65_NLV,f)\n",
    "with open('models/models_vdj_CMV_p65_TPR_cdr3b','wb') as f: pickle.dump(CMV_p65_TPR,f)\n",
    "with open('models/models_vdj_EBV_BZLF1_RAF_cdr3b','wb') as f: pickle.dump(EBV_BZLF1_RAF,f)\n",
    "with open('models/models_vdj_CMV_p65_IPS_cdr3b','wb') as f: pickle.dump(CMV_p65_IPS,f)    \n",
    "with open('models/models_vdj_EMB_BRLF1_YVL_cdr3b','wb') as f: pickle.dump(EMB_BRLF1_YVL,f)"
   ]
  },
  {
   "cell_type": "markdown",
   "metadata": {},
   "source": [
    "### Load the models if needed"
   ]
  },
  {
   "cell_type": "code",
   "execution_count": 11,
   "metadata": {},
   "outputs": [],
   "source": [
    "with open('models/models_vdj_InfA_HA_PKY_cdr3b','rb') as f: InfA_HA_PKY = pickle.load(f)\n",
    "with open('models/models_vdj_InfA_M1_GIL_cdr3b','rb') as f: InfA_M1_GIL = pickle.load(f)\n",
    "with open('models/models_vdj_CMV_p65_NLV_cdr3b','rb') as f: CMV_p65_NLV = pickle.load(f)\n",
    "with open('models/models_vdj_CMV_p65_TPR_cdr3b','rb') as f: CMV_p65_TPR = pickle.load(f)\n",
    "with open('models/models_vdj_EBV_BZLF1_RAF_cdr3b','rb') as f: EBV_BZLF1_RAF = pickle.load(f)\n",
    "with open('models/models_vdj_CMV_p65_IPS_cdr3b','rb') as f: CMV_p65_IPS = pickle.load(f)\n",
    "with open('models/models_vdj_EMB_BRLF1_YVL_cdr3b','rb') as f: EBV_BRLF1_YVL = pickle.load(f)"
   ]
  },
  {
   "cell_type": "markdown",
   "metadata": {},
   "source": [
    "## Do predictions with the models"
   ]
  },
  {
   "cell_type": "code",
   "execution_count": 12,
   "metadata": {},
   "outputs": [],
   "source": [
    "models = [InfA_HA_PKY, InfA_M1_GIL, CMV_p65_NLV, CMV_p65_TPR, EBV_BZLF1_RAF, CMV_p65_IPS, EBV_BRLF1_YVL]\n",
    "model_names = [\"InfA_HA_PKY\", \"InfA_M1_GIL\", \"CMV_p65_NLV\", \"CMV_p65_TPR\", \"EBV_BZLF1_RAF\", \"CMV_p65_IPS\", \"EBV_BRLF1_YVL\"]"
   ]
  },
  {
   "cell_type": "markdown",
   "metadata": {},
   "source": [
    "### Helsinki samples"
   ]
  },
  {
   "cell_type": "code",
   "execution_count": 24,
   "metadata": {},
   "outputs": [
    {
     "name": "stdout",
     "output_type": "stream",
     "text": [
      "InfA_HA_PKY\n",
      "Maximum length for test CDR3s is 27, but the maximum length for the trained model is 19.\n",
      "You need to train a new model with longer sequences to get predictions for all sequences.\n",
      "InfA_M1_GIL\n",
      "Maximum length for test CDR3s is 27, but the maximum length for the trained model is 20.\n",
      "You need to train a new model with longer sequences to get predictions for all sequences.\n",
      "CMV_p65_NLV\n",
      "Maximum length for test CDR3s is 27, but the maximum length for the trained model is 22.\n",
      "You need to train a new model with longer sequences to get predictions for all sequences.\n",
      "CMV_p65_TPR\n",
      "Maximum length for test CDR3s is 27, but the maximum length for the trained model is 22.\n",
      "You need to train a new model with longer sequences to get predictions for all sequences.\n",
      "EBV_BZLF1_RAF\n",
      "Maximum length for test CDR3s is 27, but the maximum length for the trained model is 21.\n",
      "You need to train a new model with longer sequences to get predictions for all sequences.\n",
      "CMV_p65_IPS\n",
      "Maximum length for test CDR3s is 27, but the maximum length for the trained model is 21.\n",
      "You need to train a new model with longer sequences to get predictions for all sequences.\n",
      "EMB_BRLF1_YVL\n",
      "Maximum length for test CDR3s is 27, but the maximum length for the trained model is 20.\n",
      "You need to train a new model with longer sequences to get predictions for all sequences.\n"
     ]
    }
   ],
   "source": [
    "for model, model_name in zip(models, model_names):\n",
    "    print(model_name)\n",
    "    seqs, preds = tcrgp.predict(\"/Users/hru/Dropbox/cml_stop/results/tcrgp/cml_input.txt\", model, cdr3b='cdr3aa',vb='v',delimiter='\\t')\n",
    "    with open(\"/Users/hru/Dropbox/cml_stop/results/tcrgp/raw/results_vdj_\"+model_name+\".csv\", 'w', newline='') as csvfile:\n",
    "        writer = csv.writer(csvfile, delimiter=',')   \n",
    "        writer.writerow(['CDR3B','prediction'])\n",
    "        for s,p in zip(seqs[0],preds):\n",
    "            writer.writerow([s,'{:.4f}'.format(p[0])])"
   ]
  },
  {
   "cell_type": "markdown",
   "metadata": {},
   "source": [
    "### Bethesda samples"
   ]
  },
  {
   "cell_type": "code",
   "execution_count": 7,
   "metadata": {
    "scrolled": true
   },
   "outputs": [
    {
     "name": "stdout",
     "output_type": "stream",
     "text": [
      "EBV_BZLF1_RAF\n",
      "Maximum length for test CDR3s is 27, but the maximum length for the trained model is 21.\n",
      "You need to train a new model with longer sequences to get predictions for all sequences.\n",
      "CMV_p65_IPS\n",
      "Maximum length for test CDR3s is 27, but the maximum length for the trained model is 21.\n",
      "You need to train a new model with longer sequences to get predictions for all sequences.\n",
      "EMB_BRLF1_YVL\n",
      "Maximum length for test CDR3s is 27, but the maximum length for the trained model is 20.\n",
      "You need to train a new model with longer sequences to get predictions for all sequences.\n"
     ]
    }
   ],
   "source": [
    "for model, model_name in zip(models, model_names):\n",
    "    print(model_name)\n",
    "    seqs, preds = tcrgp.predict(\"/Users/hru/Dropbox/aplastic_anemia_tcr/results/olga/input_data/Bethesda.tsv\", model, cdr3b='cdr3aa',vb='v',delimiter='\\t')\n",
    "    with open(\"/Users/hru/Dropbox/aplastic_anemia_tcr/results/tcrgp/raw/Bethesda/results_vdj_\"+model_name+\".csv\", 'w', newline='') as csvfile:\n",
    "        writer = csv.writer(csvfile, delimiter=',')   \n",
    "        writer.writerow(['CDR3B','prediction'])\n",
    "        for s,p in zip(seqs[0],preds):\n",
    "            writer.writerow([s,'{:.4f}'.format(p[0])])"
   ]
  },
  {
   "cell_type": "markdown",
   "metadata": {},
   "source": [
    "### Melbourne samples"
   ]
  },
  {
   "cell_type": "code",
   "execution_count": null,
   "metadata": {
    "scrolled": true
   },
   "outputs": [
    {
     "name": "stdout",
     "output_type": "stream",
     "text": [
      "InfA_HA_PKY\n",
      "Maximum length for test CDR3s is 111, but the maximum length for the trained model is 19.\n",
      "You need to train a new model with longer sequences to get predictions for all sequences.\n",
      "InfA_M1_GIL\n",
      "Maximum length for test CDR3s is 111, but the maximum length for the trained model is 20.\n",
      "You need to train a new model with longer sequences to get predictions for all sequences.\n",
      "CMV_p65_NLV\n",
      "Maximum length for test CDR3s is 111, but the maximum length for the trained model is 22.\n",
      "You need to train a new model with longer sequences to get predictions for all sequences.\n",
      "CMV_p65_TPR\n",
      "Maximum length for test CDR3s is 111, but the maximum length for the trained model is 22.\n",
      "You need to train a new model with longer sequences to get predictions for all sequences.\n",
      "EBV_BZLF1_RAF\n",
      "Maximum length for test CDR3s is 111, but the maximum length for the trained model is 21.\n",
      "You need to train a new model with longer sequences to get predictions for all sequences.\n",
      "CMV_p65_IPS\n",
      "Maximum length for test CDR3s is 111, but the maximum length for the trained model is 21.\n",
      "You need to train a new model with longer sequences to get predictions for all sequences.\n",
      "EMB_BRLF1_YVL\n",
      "Maximum length for test CDR3s is 111, but the maximum length for the trained model is 20.\n",
      "You need to train a new model with longer sequences to get predictions for all sequences.\n"
     ]
    }
   ],
   "source": [
    "for model, model_name in zip(models, model_names):\n",
    "    print(model_name)\n",
    "    seqs, preds = tcrgp.predict(\"/Users/hru/Dropbox/aplastic_anemia_tcr/results/olga/input_data/Melbourne.tsv\", model, cdr3b='cdr3aa',vb='v',delimiter='\\t')\n",
    "    with open(\"/Users/hru/Dropbox/aplastic_anemia_tcr/results/tcrgp/raw/Melbourne/results_vdj_\"+model_name+\".csv\", 'w', newline='') as csvfile:\n",
    "        writer = csv.writer(csvfile, delimiter=',')   \n",
    "        writer.writerow(['CDR3B','prediction'])\n",
    "        for s,p in zip(seqs[0],preds):\n",
    "            writer.writerow([s,'{:.4f}'.format(p[0])])"
   ]
  },
  {
   "cell_type": "markdown",
   "metadata": {},
   "source": [
    "### Healthy CD8+ samples"
   ]
  },
  {
   "cell_type": "code",
   "execution_count": null,
   "metadata": {},
   "outputs": [
    {
     "name": "stdout",
     "output_type": "stream",
     "text": [
      "InfA_HA_PKY\n",
      "Maximum length for test CDR3s is 26, but the maximum length for the trained model is 19.\n",
      "You need to train a new model with longer sequences to get predictions for all sequences.\n",
      "InfA_M1_GIL\n",
      "Maximum length for test CDR3s is 26, but the maximum length for the trained model is 20.\n",
      "You need to train a new model with longer sequences to get predictions for all sequences.\n",
      "CMV_p65_NLV\n",
      "Maximum length for test CDR3s is 26, but the maximum length for the trained model is 22.\n",
      "You need to train a new model with longer sequences to get predictions for all sequences.\n"
     ]
    }
   ],
   "source": [
    "for model, model_name in zip(models, model_names):\n",
    "    print(model_name)\n",
    "    seqs, preds = tcrgp.predict(\"/Users/hru/Dropbox/aplastic_anemia_tcr/results/olga/input_data/ctrl_ctl.tsv\", model, cdr3b='cdr3aa',vb='v',delimiter='\\t')\n",
    "    with open(\"/Users/hru/Dropbox/aplastic_anemia_tcr/results/tcrgp/raw/ctrl_cd8/results_vdj_\"+model_name+\".csv\", 'w', newline='') as csvfile:\n",
    "        writer = csv.writer(csvfile, delimiter=',')   \n",
    "        writer.writerow(['CDR3B','prediction'])\n",
    "        for s,p in zip(seqs[0],preds):\n",
    "            writer.writerow([s,'{:.4f}'.format(p[0])])"
   ]
  },
  {
   "cell_type": "markdown",
   "metadata": {},
   "source": [
    "### Cleveland samples"
   ]
  },
  {
   "cell_type": "code",
   "execution_count": null,
   "metadata": {},
   "outputs": [
    {
     "name": "stdout",
     "output_type": "stream",
     "text": [
      "InfA_HA_PKY\n",
      "Maximum length for test CDR3s is 27, but the maximum length for the trained model is 19.\n",
      "You need to train a new model with longer sequences to get predictions for all sequences.\n"
     ]
    }
   ],
   "source": [
    "for model, model_name in zip(models, model_names):\n",
    "    print(model_name)\n",
    "    seqs, preds = tcrgp.predict(\"/Users/hru/Dropbox/aplastic_anemia_tcr/results/olga/input_data/Cleveland.tsv\", model, \n",
    "                                cdr3b='cdr3aa',  \n",
    "                                vb='v', \n",
    "                                delimiter='\\t')\n",
    "    with open(\"/Users/hru/Dropbox/aplastic_anemia_tcr/results/tcrgp/raw/Cleveland/results_vdj_\"+model_name+\".csv\", 'w', newline='') as csvfile:\n",
    "        writer = csv.writer(csvfile, delimiter=',')   \n",
    "        writer.writerow(['CDR3B','prediction'])\n",
    "        for s,p in zip(seqs[0],preds):\n",
    "            writer.writerow([s,'{:.4f}'.format(p[0])])"
   ]
  },
  {
   "cell_type": "markdown",
   "metadata": {},
   "source": [
    "## scRNAseq+TCR&alpha;&beta; samples\n",
    "From the single-cell experiment.\n",
    "As of now, only TCR&beta; is used. \n",
    "\n",
    "> Note: Do TCR&alpha;&beta; predictions "
   ]
  },
  {
   "cell_type": "markdown",
   "metadata": {},
   "source": [
    "### FHRB1641"
   ]
  },
  {
   "cell_type": "code",
   "execution_count": 8,
   "metadata": {},
   "outputs": [
    {
     "name": "stdout",
     "output_type": "stream",
     "text": [
      "InfA_HA_PKY\n",
      "Maximum length for test CDR3s is 23, but the maximum length for the trained model is 19.\n",
      "You need to train a new model with longer sequences to get predictions for all sequences.\n",
      "InfA_M1_GIL\n",
      "Maximum length for test CDR3s is 23, but the maximum length for the trained model is 20.\n",
      "You need to train a new model with longer sequences to get predictions for all sequences.\n",
      "CMV_p65_NLV\n",
      "Maximum length for test CDR3s is 23, but the maximum length for the trained model is 22.\n",
      "You need to train a new model with longer sequences to get predictions for all sequences.\n",
      "CMV_p65_TPR\n",
      "Maximum length for test CDR3s is 23, but the maximum length for the trained model is 22.\n",
      "You need to train a new model with longer sequences to get predictions for all sequences.\n",
      "EBV_BZLF1_RAF\n",
      "Maximum length for test CDR3s is 23, but the maximum length for the trained model is 21.\n",
      "You need to train a new model with longer sequences to get predictions for all sequences.\n",
      "CMV_p65_IPS\n",
      "Maximum length for test CDR3s is 23, but the maximum length for the trained model is 21.\n",
      "You need to train a new model with longer sequences to get predictions for all sequences.\n",
      "EMB_BRLF1_YVL\n",
      "Maximum length for test CDR3s is 23, but the maximum length for the trained model is 20.\n",
      "You need to train a new model with longer sequences to get predictions for all sequences.\n"
     ]
    }
   ],
   "source": [
    "for model, model_name in zip(models, model_names):\n",
    "    print(model_name)\n",
    "    seqs, preds = tcrgp.predict(\"/Users/hru/Dropbox/aplastic_anemia/results/scrnaseq/FHRB1641/tcrgp/metadata.txt\",\n",
    "                                # \"/Users/hru/Dropbox/aplastic_anemia/data/scRNAseq+TCRseq/preprocessed/fhrb1641_uniq_tcrab.txt\", \n",
    "                                model, \n",
    "                                cdr3b='trb_cdr3s_aa', cdr3a='tra_cdr3s_aa', \n",
    "                                vb='v_trb', va = 'v_tra',\n",
    "                                delimiter='\\t')\n",
    "    with open(\"/Users/hru/Dropbox/aplastic_anemia/results/scrnaseq/FHRB1641/tcrgp/raw/results_vdj_\"+model_name+\".csv\", 'w', newline='') as csvfile:\n",
    "        writer = csv.writer(csvfile, delimiter=',')   \n",
    "        writer.writerow(['CDR3B','prediction'])\n",
    "        for s,p in zip(seqs[0],preds):\n",
    "            writer.writerow([s,'{:.4f}'.format(p[0])])"
   ]
  },
  {
   "cell_type": "markdown",
   "metadata": {},
   "source": [
    "### FHRB1680"
   ]
  },
  {
   "cell_type": "code",
   "execution_count": 32,
   "metadata": {},
   "outputs": [
    {
     "name": "stdout",
     "output_type": "stream",
     "text": [
      "InfA_HA_PKY\n",
      "Maximum length for test CDR3s is 24, but the maximum length for the trained model is 19.\n",
      "You need to train a new model with longer sequences to get predictions for all sequences.\n",
      "InfA_M1_GIL\n",
      "Maximum length for test CDR3s is 24, but the maximum length for the trained model is 20.\n",
      "You need to train a new model with longer sequences to get predictions for all sequences.\n",
      "CMV_p65_NLV\n",
      "Maximum length for test CDR3s is 24, but the maximum length for the trained model is 22.\n",
      "You need to train a new model with longer sequences to get predictions for all sequences.\n",
      "CMV_p65_TPR\n",
      "Maximum length for test CDR3s is 24, but the maximum length for the trained model is 22.\n",
      "You need to train a new model with longer sequences to get predictions for all sequences.\n",
      "EBV_BZLF1_RAF\n",
      "Maximum length for test CDR3s is 24, but the maximum length for the trained model is 21.\n",
      "You need to train a new model with longer sequences to get predictions for all sequences.\n",
      "CMV_p65_IPS\n",
      "Maximum length for test CDR3s is 24, but the maximum length for the trained model is 21.\n",
      "You need to train a new model with longer sequences to get predictions for all sequences.\n",
      "EMB_BRLF1_YVL\n",
      "Maximum length for test CDR3s is 24, but the maximum length for the trained model is 20.\n",
      "You need to train a new model with longer sequences to get predictions for all sequences.\n"
     ]
    }
   ],
   "source": [
    "for model, model_name in zip(models, model_names):\n",
    "    print(model_name)\n",
    "    seqs, preds = tcrgp.predict(\"/Users/hru/Dropbox/aplastic_anemia/results/scrnaseq/FHRB1680/tcrgp/metadata.txt\",\n",
    "                                # \"/Users/hru/Dropbox/aplastic_anemia/data/scRNAseq+TCRseq/preprocessed/fhrb1680_uniq_tcrab.txt\", \n",
    "                                model, \n",
    "                                cdr3b='trb_cdr3s_aa', cdr3a='tra_cdr3s_aa', \n",
    "                                vb='v_trb', va = 'v_tra',\n",
    "                                delimiter='\\t')\n",
    "    with open(\"/Users/hru/Dropbox/aplastic_anemia/results/scrnaseq/FHRB1680/tcrgp/raw/results_vdj_\"+model_name+\".csv\", 'w', newline='') as csvfile:\n",
    "        writer = csv.writer(csvfile, delimiter=',')   \n",
    "        writer.writerow(['CDR3B','prediction'])\n",
    "        for s,p in zip(seqs[0],preds):\n",
    "            writer.writerow([s,'{:.4f}'.format(p[0])])"
   ]
  },
  {
   "cell_type": "markdown",
   "metadata": {},
   "source": [
    "## Misc"
   ]
  },
  {
   "cell_type": "code",
   "execution_count": 7,
   "metadata": {},
   "outputs": [
    {
     "name": "stdout",
     "output_type": "stream",
     "text": [
      "Maximum length for test CDR3s is 27, but the maximum length for the trained model is 19.\n",
      "You need to train a new model with longer sequences to get predictions for all sequences.\n"
     ]
    }
   ],
   "source": [
    "helsinki_seqs, InfA_HA_PKY_preds = tcrgp.predict(\"/Users/hru/Dropbox/aplastic_anemia_tcr/results/olga/input_data/Helsinki.tsv\",\n",
    "                                 InfA_HA_PKY,\n",
    "                                cdr3b='cdr3aa',vb='v',delimiter='\\t')"
   ]
  },
  {
   "cell_type": "code",
   "execution_count": 9,
   "metadata": {},
   "outputs": [],
   "source": [
    "with open(\"/Users/hru/Dropbox/aplastic_anemia_tcr/results/tcrgp/raw/Helsinki/results_vdj_InfA_HA_PKY.csv\", 'w', newline='') as csvfile:\n",
    "    writer = csv.writer(csvfile, delimiter=',')   \n",
    "    writer.writerow(['CDR3B','prediction'])\n",
    "    for s,p in zip(helsinki_seqs[0],InfA_HA_PKY_preds):\n",
    "        writer.writerow([s,'{:.4f}'.format(p[0])])"
   ]
  },
  {
   "cell_type": "markdown",
   "metadata": {},
   "source": [
    "## Train classifier based on the AA interesting clones GLIPH result"
   ]
  },
  {
   "cell_type": "code",
   "execution_count": 47,
   "metadata": {},
   "outputs": [
    {
     "name": "stdout",
     "output_type": "stream",
     "text": [
      "human AA_interesting: 10 subjects, 1709 samples\n"
     ]
    },
    {
     "ename": "IndexError",
     "evalue": "boolean index did not match indexed array along dimension 0; dimension is 3418 but corresponding boolean dimension is 1709",
     "output_type": "error",
     "traceback": [
      "\u001b[0;31m---------------------------------------------------------------------------\u001b[0m",
      "\u001b[0;31mIndexError\u001b[0m                                Traceback (most recent call last)",
      "\u001b[0;32m<ipython-input-47-7f096e94183f>\u001b[0m in \u001b[0;36m<module>\u001b[0;34m\u001b[0m\n\u001b[1;32m      5\u001b[0m                                        \u001b[0mnZ\u001b[0m\u001b[0;34m=\u001b[0m\u001b[0;36m60\u001b[0m\u001b[0;34m,\u001b[0m\u001b[0mmbs\u001b[0m\u001b[0;34m=\u001b[0m\u001b[0;36m100\u001b[0m\u001b[0;34m,\u001b[0m\u001b[0;34m\u001b[0m\u001b[0;34m\u001b[0m\u001b[0m\n\u001b[1;32m      6\u001b[0m \u001b[0;34m\u001b[0m\u001b[0m\n\u001b[0;32m----> 7\u001b[0;31m                                      va='va',vb='vb',cdr3a='cdr3a',cdr3b='cdr3b',epis='epitope', subs='Subject')\n\u001b[0m",
      "\u001b[0;32m~/Dropbox/aplastic_anemia_tcr/src/python/tcrgp/tcrgp.py\u001b[0m in \u001b[0;36mloso\u001b[0;34m(datafile, organism, epi, pc, cdr_types, l, var, m_iters, lr, nZ, mbs, clip3, clip, min_subjects, cv, delim, va, vb, cdr3a, cdr3b, subs, epis)\u001b[0m\n\u001b[1;32m    593\u001b[0m \u001b[0;34m\u001b[0m\u001b[0m\n\u001b[1;32m    594\u001b[0m         \u001b[0mI\u001b[0m \u001b[0;34m=\u001b[0m \u001b[0mnp\u001b[0m\u001b[0;34m.\u001b[0m\u001b[0mones\u001b[0m\u001b[0;34m(\u001b[0m\u001b[0;34m(\u001b[0m\u001b[0;36m2\u001b[0m\u001b[0;34m*\u001b[0m\u001b[0ml_epi\u001b[0m\u001b[0;34m)\u001b[0m\u001b[0;34m,\u001b[0m\u001b[0mdtype\u001b[0m\u001b[0;34m=\u001b[0m\u001b[0mbool\u001b[0m\u001b[0;34m)\u001b[0m\u001b[0;34m\u001b[0m\u001b[0;34m\u001b[0m\u001b[0m\n\u001b[0;32m--> 595\u001b[0;31m         \u001b[0mI\u001b[0m\u001b[0;34m[\u001b[0m\u001b[0mIpos\u001b[0m\u001b[0;34m]\u001b[0m\u001b[0;34m=\u001b[0m \u001b[0mIsub\u001b[0m\u001b[0;34m\u001b[0m\u001b[0;34m\u001b[0m\u001b[0m\n\u001b[0m\u001b[1;32m    596\u001b[0m         \u001b[0mI\u001b[0m\u001b[0;34m[\u001b[0m\u001b[0mIneg\u001b[0m\u001b[0;34m]\u001b[0m\u001b[0;34m=\u001b[0m \u001b[0mIsub\u001b[0m\u001b[0;34m\u001b[0m\u001b[0;34m\u001b[0m\u001b[0m\n\u001b[1;32m    597\u001b[0m \u001b[0;34m\u001b[0m\u001b[0m\n",
      "\u001b[0;31mIndexError\u001b[0m: boolean index did not match indexed array along dimension 0; dimension is 3418 but corresponding boolean dimension is 1709"
     ]
    }
   ],
   "source": [
    "_,_,_,_ = tcrgp.loso('/Users/hru/Dropbox/aplastic_anemia_tcr/results/gliph/results/cd8_pb_dg_no_melbourne_uniq_int/toTCRGP.csv',\n",
    "                                       'human',\n",
    "                                       'AA_interesting',pc_blo,\n",
    "                                     cdr_types=[[],['cdr3']],m_iters=5000,lr=0.005,\n",
    "                                       nZ=60,mbs=100,\n",
    "                                         \n",
    "                                     va='va',vb='vb',cdr3a='cdr3a',cdr3b='cdr3b',epis='epitope', subs='Subject')"
   ]
  },
  {
   "cell_type": "code",
   "execution_count": 44,
   "metadata": {},
   "outputs": [
    {
     "name": "stdout",
     "output_type": "stream",
     "text": [
      "human AA_interesting: 10 subjects, 1709 samples\n"
     ]
    },
    {
     "ename": "IndexError",
     "evalue": "boolean index did not match indexed array along dimension 0; dimension is 3418 but corresponding boolean dimension is 1709",
     "output_type": "error",
     "traceback": [
      "\u001b[0;31m---------------------------------------------------------------------------\u001b[0m",
      "\u001b[0;31mIndexError\u001b[0m                                Traceback (most recent call last)",
      "\u001b[0;32m<ipython-input-44-c576acb8951d>\u001b[0m in \u001b[0;36m<module>\u001b[0;34m\u001b[0m\n\u001b[1;32m      6\u001b[0m                                      \u001b[0mm_iters\u001b[0m\u001b[0;34m=\u001b[0m\u001b[0;36m100\u001b[0m\u001b[0;34m,\u001b[0m\u001b[0mlr\u001b[0m\u001b[0;34m=\u001b[0m\u001b[0;36m0.005\u001b[0m\u001b[0;34m,\u001b[0m\u001b[0mnZ\u001b[0m\u001b[0;34m=\u001b[0m\u001b[0;36m60\u001b[0m\u001b[0;34m,\u001b[0m\u001b[0mmbs\u001b[0m\u001b[0;34m=\u001b[0m\u001b[0;36m100\u001b[0m\u001b[0;34m,\u001b[0m\u001b[0;34m\u001b[0m\u001b[0;34m\u001b[0m\u001b[0m\n\u001b[1;32m      7\u001b[0m \u001b[0;34m\u001b[0m\u001b[0m\n\u001b[0;32m----> 8\u001b[0;31m                                      va=None,vb=None,cdr3a=None,cdr3b='cdr3b',epis='epitope', subs='Subject')\n\u001b[0m\u001b[1;32m      9\u001b[0m \u001b[0;34m\u001b[0m\u001b[0m\n\u001b[1;32m     10\u001b[0m \u001b[0;34m\u001b[0m\u001b[0m\n",
      "\u001b[0;32m~/Dropbox/aplastic_anemia_tcr/src/python/tcrgp/tcrgp.py\u001b[0m in \u001b[0;36mloso\u001b[0;34m(datafile, organism, epi, pc, cdr_types, l, var, m_iters, lr, nZ, mbs, clip3, clip, min_subjects, cv, delim, va, vb, cdr3a, cdr3b, subs, epis)\u001b[0m\n\u001b[1;32m    593\u001b[0m \u001b[0;34m\u001b[0m\u001b[0m\n\u001b[1;32m    594\u001b[0m         \u001b[0mI\u001b[0m \u001b[0;34m=\u001b[0m \u001b[0mnp\u001b[0m\u001b[0;34m.\u001b[0m\u001b[0mones\u001b[0m\u001b[0;34m(\u001b[0m\u001b[0;34m(\u001b[0m\u001b[0;36m2\u001b[0m\u001b[0;34m*\u001b[0m\u001b[0ml_epi\u001b[0m\u001b[0;34m)\u001b[0m\u001b[0;34m,\u001b[0m\u001b[0mdtype\u001b[0m\u001b[0;34m=\u001b[0m\u001b[0mbool\u001b[0m\u001b[0;34m)\u001b[0m\u001b[0;34m\u001b[0m\u001b[0;34m\u001b[0m\u001b[0m\n\u001b[0;32m--> 595\u001b[0;31m         \u001b[0mI\u001b[0m\u001b[0;34m[\u001b[0m\u001b[0mIpos\u001b[0m\u001b[0;34m]\u001b[0m\u001b[0;34m=\u001b[0m \u001b[0mIsub\u001b[0m\u001b[0;34m\u001b[0m\u001b[0;34m\u001b[0m\u001b[0m\n\u001b[0m\u001b[1;32m    596\u001b[0m         \u001b[0mI\u001b[0m\u001b[0;34m[\u001b[0m\u001b[0mIneg\u001b[0m\u001b[0;34m]\u001b[0m\u001b[0;34m=\u001b[0m \u001b[0mIsub\u001b[0m\u001b[0;34m\u001b[0m\u001b[0;34m\u001b[0m\u001b[0m\n\u001b[1;32m    597\u001b[0m \u001b[0;34m\u001b[0m\u001b[0m\n",
      "\u001b[0;31mIndexError\u001b[0m: boolean index did not match indexed array along dimension 0; dimension is 3418 but corresponding boolean dimension is 1709"
     ]
    }
   ],
   "source": [
    "_,_,_,_ = tcrgp.loso('/Users/hru/Dropbox/aplastic_anemia_tcr/results/gliph/results/cd8_pb_dg_no_melbourne_uniq_int/toTCRGP.csv',\n",
    "                                       'human',\n",
    "                                       'AA_interesting',pc_blo,\n",
    "                                     cdr_types=[[],['cdr3']],\n",
    "                     \n",
    "                                     m_iters=100,lr=0.005,nZ=60,mbs=100,\n",
    "                                         \n",
    "                                     va=None,vb=None,cdr3a=None,cdr3b='cdr3b',epis='epitope', subs='Subject')\n",
    "\n",
    "\n"
   ]
  },
  {
   "cell_type": "code",
   "execution_count": 52,
   "metadata": {},
   "outputs": [
    {
     "ename": "ValueError",
     "evalue": "Only one class present in y_true. ROC AUC score is not defined in that case.",
     "output_type": "error",
     "traceback": [
      "\u001b[0;31m---------------------------------------------------------------------------\u001b[0m",
      "\u001b[0;31mValueError\u001b[0m                                Traceback (most recent call last)",
      "\u001b[0;32m<ipython-input-52-5f00b25adefc>\u001b[0m in \u001b[0;36m<module>\u001b[0;34m\u001b[0m\n\u001b[1;32m      5\u001b[0m                                           \u001b[0mpc_blo\u001b[0m\u001b[0;34m,\u001b[0m\u001b[0;34m\u001b[0m\u001b[0;34m\u001b[0m\u001b[0m\n\u001b[1;32m      6\u001b[0m                                      \u001b[0mcdr_types\u001b[0m\u001b[0;34m=\u001b[0m\u001b[0;34m[\u001b[0m\u001b[0;34m[\u001b[0m\u001b[0;34m]\u001b[0m\u001b[0;34m,\u001b[0m\u001b[0;34m[\u001b[0m\u001b[0;34m'cdr3'\u001b[0m\u001b[0;34m]\u001b[0m\u001b[0;34m]\u001b[0m\u001b[0;34m,\u001b[0m\u001b[0mm_iters\u001b[0m\u001b[0;34m=\u001b[0m\u001b[0;36m5000\u001b[0m\u001b[0;34m,\u001b[0m\u001b[0mlr\u001b[0m\u001b[0;34m=\u001b[0m\u001b[0;36m0.005\u001b[0m\u001b[0;34m,\u001b[0m\u001b[0mnZ\u001b[0m\u001b[0;34m=\u001b[0m\u001b[0;36m0\u001b[0m\u001b[0;34m,\u001b[0m\u001b[0mmbs\u001b[0m\u001b[0;34m=\u001b[0m\u001b[0;36m0\u001b[0m\u001b[0;34m,\u001b[0m\u001b[0ml3_max\u001b[0m\u001b[0;34m=\u001b[0m\u001b[0;36m0\u001b[0m\u001b[0;34m,\u001b[0m\u001b[0;34m\u001b[0m\u001b[0;34m\u001b[0m\u001b[0m\n\u001b[0;32m----> 7\u001b[0;31m                                      va=None,vb=None,cdr3a=None,cdr3b='cdr3b',epis='epitope')\n\u001b[0m\u001b[1;32m      8\u001b[0m \u001b[0;34m\u001b[0m\u001b[0m\n\u001b[1;32m      9\u001b[0m \u001b[0;34m\u001b[0m\u001b[0m\n",
      "\u001b[0;32m~/Dropbox/aplastic_anemia_tcr/src/python/tcrgp/tcrgp.py\u001b[0m in \u001b[0;36mtrain_classifier\u001b[0;34m(datafile, organism, epi, pc, cdr_types, m_iters, lr, nZ, mbs, l3_max, clip3, clip, delimiter, va, vb, cdr3a, cdr3b, epis)\u001b[0m\n\u001b[1;32m    686\u001b[0m         \u001b[0mp\u001b[0m\u001b[0;34m,\u001b[0m \u001b[0m_\u001b[0m \u001b[0;34m=\u001b[0m \u001b[0mm\u001b[0m\u001b[0;34m.\u001b[0m\u001b[0mpredict_y\u001b[0m\u001b[0;34m(\u001b[0m\u001b[0mX\u001b[0m\u001b[0;34m)\u001b[0m\u001b[0;34m\u001b[0m\u001b[0;34m\u001b[0m\u001b[0m\n\u001b[1;32m    687\u001b[0m \u001b[0;34m\u001b[0m\u001b[0m\n\u001b[0;32m--> 688\u001b[0;31m     \u001b[0mauc\u001b[0m \u001b[0;34m=\u001b[0m \u001b[0mroc_auc\u001b[0m\u001b[0;34m(\u001b[0m\u001b[0my\u001b[0m\u001b[0;34m,\u001b[0m\u001b[0mp\u001b[0m\u001b[0;34m)\u001b[0m \u001b[0;31m# Training AUC\u001b[0m\u001b[0;34m\u001b[0m\u001b[0;34m\u001b[0m\u001b[0m\n\u001b[0m\u001b[1;32m    689\u001b[0m     \u001b[0;32mreturn\u001b[0m \u001b[0mauc\u001b[0m\u001b[0;34m,\u001b[0m \u001b[0mparam_list\u001b[0m\u001b[0;34m\u001b[0m\u001b[0;34m\u001b[0m\u001b[0m\n\u001b[1;32m    690\u001b[0m \u001b[0;34m\u001b[0m\u001b[0m\n",
      "\u001b[0;32m~/anaconda/lib/python3.6/site-packages/sklearn/metrics/ranking.py\u001b[0m in \u001b[0;36mroc_auc_score\u001b[0;34m(y_true, y_score, average, sample_weight, max_fpr)\u001b[0m\n\u001b[1;32m    353\u001b[0m     return _average_binary_score(\n\u001b[1;32m    354\u001b[0m         \u001b[0m_binary_roc_auc_score\u001b[0m\u001b[0;34m,\u001b[0m \u001b[0my_true\u001b[0m\u001b[0;34m,\u001b[0m \u001b[0my_score\u001b[0m\u001b[0;34m,\u001b[0m \u001b[0maverage\u001b[0m\u001b[0;34m,\u001b[0m\u001b[0;34m\u001b[0m\u001b[0;34m\u001b[0m\u001b[0m\n\u001b[0;32m--> 355\u001b[0;31m         sample_weight=sample_weight)\n\u001b[0m\u001b[1;32m    356\u001b[0m \u001b[0;34m\u001b[0m\u001b[0m\n\u001b[1;32m    357\u001b[0m \u001b[0;34m\u001b[0m\u001b[0m\n",
      "\u001b[0;32m~/anaconda/lib/python3.6/site-packages/sklearn/metrics/base.py\u001b[0m in \u001b[0;36m_average_binary_score\u001b[0;34m(binary_metric, y_true, y_score, average, sample_weight)\u001b[0m\n\u001b[1;32m     74\u001b[0m \u001b[0;34m\u001b[0m\u001b[0m\n\u001b[1;32m     75\u001b[0m     \u001b[0;32mif\u001b[0m \u001b[0my_type\u001b[0m \u001b[0;34m==\u001b[0m \u001b[0;34m\"binary\"\u001b[0m\u001b[0;34m:\u001b[0m\u001b[0;34m\u001b[0m\u001b[0;34m\u001b[0m\u001b[0m\n\u001b[0;32m---> 76\u001b[0;31m         \u001b[0;32mreturn\u001b[0m \u001b[0mbinary_metric\u001b[0m\u001b[0;34m(\u001b[0m\u001b[0my_true\u001b[0m\u001b[0;34m,\u001b[0m \u001b[0my_score\u001b[0m\u001b[0;34m,\u001b[0m \u001b[0msample_weight\u001b[0m\u001b[0;34m=\u001b[0m\u001b[0msample_weight\u001b[0m\u001b[0;34m)\u001b[0m\u001b[0;34m\u001b[0m\u001b[0;34m\u001b[0m\u001b[0m\n\u001b[0m\u001b[1;32m     77\u001b[0m \u001b[0;34m\u001b[0m\u001b[0m\n\u001b[1;32m     78\u001b[0m     \u001b[0mcheck_consistent_length\u001b[0m\u001b[0;34m(\u001b[0m\u001b[0my_true\u001b[0m\u001b[0;34m,\u001b[0m \u001b[0my_score\u001b[0m\u001b[0;34m,\u001b[0m \u001b[0msample_weight\u001b[0m\u001b[0;34m)\u001b[0m\u001b[0;34m\u001b[0m\u001b[0;34m\u001b[0m\u001b[0m\n",
      "\u001b[0;32m~/anaconda/lib/python3.6/site-packages/sklearn/metrics/ranking.py\u001b[0m in \u001b[0;36m_binary_roc_auc_score\u001b[0;34m(y_true, y_score, sample_weight)\u001b[0m\n\u001b[1;32m    321\u001b[0m     \u001b[0;32mdef\u001b[0m \u001b[0m_binary_roc_auc_score\u001b[0m\u001b[0;34m(\u001b[0m\u001b[0my_true\u001b[0m\u001b[0;34m,\u001b[0m \u001b[0my_score\u001b[0m\u001b[0;34m,\u001b[0m \u001b[0msample_weight\u001b[0m\u001b[0;34m=\u001b[0m\u001b[0;32mNone\u001b[0m\u001b[0;34m)\u001b[0m\u001b[0;34m:\u001b[0m\u001b[0;34m\u001b[0m\u001b[0;34m\u001b[0m\u001b[0m\n\u001b[1;32m    322\u001b[0m         \u001b[0;32mif\u001b[0m \u001b[0mlen\u001b[0m\u001b[0;34m(\u001b[0m\u001b[0mnp\u001b[0m\u001b[0;34m.\u001b[0m\u001b[0munique\u001b[0m\u001b[0;34m(\u001b[0m\u001b[0my_true\u001b[0m\u001b[0;34m)\u001b[0m\u001b[0;34m)\u001b[0m \u001b[0;34m!=\u001b[0m \u001b[0;36m2\u001b[0m\u001b[0;34m:\u001b[0m\u001b[0;34m\u001b[0m\u001b[0;34m\u001b[0m\u001b[0m\n\u001b[0;32m--> 323\u001b[0;31m             raise ValueError(\"Only one class present in y_true. ROC AUC score \"\n\u001b[0m\u001b[1;32m    324\u001b[0m                              \"is not defined in that case.\")\n\u001b[1;32m    325\u001b[0m \u001b[0;34m\u001b[0m\u001b[0m\n",
      "\u001b[0;31mValueError\u001b[0m: Only one class present in y_true. ROC AUC score is not defined in that case."
     ]
    }
   ],
   "source": [
    "auc, InfA_HA_PKY = tcrgp.train_classifier('/Users/hru/Dropbox/aplastic_anemia_tcr/results/gliph/results/cd8_pb_dg_no_melbourne_uniq_int/toTCRGP.csv',\n",
    "                                       'human',\n",
    "                                       'AA_interesting',\n",
    "                                          \n",
    "                                          pc_blo,\n",
    "                                     cdr_types=[[],['cdr3']],m_iters=5000,lr=0.005,nZ=0,mbs=0,l3_max=0,\n",
    "                                     va=None,vb=None,cdr3a=None,cdr3b='cdr3b',epis='epitope')\n",
    "\n",
    "\n"
   ]
  },
  {
   "cell_type": "code",
   "execution_count": 50,
   "metadata": {},
   "outputs": [
    {
     "name": "stdout",
     "output_type": "stream",
     "text": [
      "Help on function train_classifier in module tcrgp:\n",
      "\n",
      "train_classifier(datafile, organism, epi, pc, cdr_types=[[], ['cdr3']], m_iters=5000, lr=0.005, nZ=0, mbs=0, l3_max=0, clip3=False, clip=[3, 2], delimiter=',', va='va', vb='vb', cdr3a='cdr3a', cdr3b='cdr3b', epis='epitope')\n",
      "    Train classifier with TCRGP. Returns training AUC and parameters required for the rebuilding of the model.\n",
      "    datafile: delimeted file which contains columns Epitope, Subject, va, vb, cdr3a, cdr3b. If some of them are not\n",
      "        required to get the requsted cdr types, they may be empty.\n",
      "    organism: 'human' or 'mouse'\n",
      "    epi: name of the epitope\n",
      "    pc: principal components or features for each amino acid.\n",
      "    cdr_types: CDRs utilized by the model. list that contains list of CDR types for chain A and chain B.\n",
      "        possible CDR types are cdr1, cdr2, cdr25 and cdr3.\n",
      "    \n",
      "    l: initial length scale for kernel. Can also be a list where there is a separate lengthscale for each CDR\n",
      "        in the following order: cdr3a, cdr1a, cdr2a, cdr25a, cdr3b, cdr1b, cdr2b, cdr25b\n",
      "    var: initial variance (weight) for kernel. Same format as with l.\n",
      "    m_iters: maximum number of iterations\n",
      "    lr: learning rate\n",
      "    nZ: number of inducing points to be used with SVGP(selected with kmeans). If zero, VGP will be used.\n",
      "    mbs: minibatch size, in case SVGP is used.\n",
      "    clip3: bool, if True, clip amino acids from CDR3s as specified by clip\n",
      "    clip: list, remove clip[0] amino acids from beginning and clip[1] amino acids from the end\n",
      "    delimiter: delimiter used in datafile\n",
      "    va,vb,cdr3a,cdr3b,epis: names for the columns that contain information for VA-genes, VB-genes, CDR3As, CDR3Bs,\n",
      "        and epitopes. Any of them can be None, if they are not required to get the requested cdr_types\n",
      "    returns mean AUC, mean weighted AUC, class lists for all subjects/folds, predictions for all subjects/folds\n",
      "\n"
     ]
    }
   ],
   "source": [
    "help(tcrgp.train_classifier)"
   ]
  },
  {
   "cell_type": "markdown",
   "metadata": {},
   "source": [
    "## Interesting clonotypes"
   ]
  },
  {
   "cell_type": "code",
   "execution_count": 14,
   "metadata": {},
   "outputs": [
    {
     "name": "stdout",
     "output_type": "stream",
     "text": [
      "InfA_HA_PKY\n",
      "InfA_M1_GIL\n",
      "CMV_p65_NLV\n",
      "CMV_p65_TPR\n",
      "EBV_BZLF1_RAF\n",
      "CMV_p65_IPS\n",
      "EMB_BRLF1_YVL\n"
     ]
    }
   ],
   "source": [
    "for model, model_name in zip(models, model_names):\n",
    "    print(model_name)\n",
    "    seqs, preds = tcrgp.predict(\"/Users/hru/Dropbox/aplastic_anemia_tcr/results/gliph/results/cd8_pb_dg_no_melbourne_uniq_int/toTCRGP.csv\", model, \n",
    "                                cdr3b='cdr3b',  \n",
    "                                vb=None, \n",
    "                                delimiter=',')\n",
    "    with open(\"/Users/hru/Dropbox/aplastic_anemia_tcr/results/gliph/results/cd8_pb_dg_no_melbourne_uniq_int/tcrpgp/results_vdj_\"+model_name+\".csv\", 'w', newline='') as csvfile:\n",
    "        writer = csv.writer(csvfile, delimiter=',')   \n",
    "        writer.writerow(['CDR3B','prediction'])\n",
    "        for s,p in zip(seqs[0],preds):\n",
    "            writer.writerow([s,'{:.4f}'.format(p[0])])"
   ]
  },
  {
   "cell_type": "code",
   "execution_count": null,
   "metadata": {},
   "outputs": [],
   "source": [
    "for model, model_name in zip(models, model_names):\n",
    "    print(model_name)\n",
    "    seqs, preds = tcrgp.predict(\"/Users/hru/Dropbox/aplastic_anemia_tcr/results/gliph/results/all_init/all_int.txt\", model, \n",
    "                                cdr3b='CDR3b',  \n",
    "                                vb=None, \n",
    "                                delimiter='\\t')\n",
    "    with open(\"/Users/hru/Dropbox/aplastic_anemia_tcr/results/gliph/results/all_init/tcrgp/results_vdj_\"+model_name+\".csv\", 'w', newline='') as csvfile:\n",
    "        writer = csv.writer(csvfile, delimiter=',')   \n",
    "        writer.writerow(['CDR3B','prediction'])\n",
    "        for s,p in zip(seqs[0],preds):\n",
    "            writer.writerow([s,'{:.4f}'.format(p[0])])"
   ]
  },
  {
   "cell_type": "code",
   "execution_count": null,
   "metadata": {},
   "outputs": [],
   "source": []
  },
  {
   "cell_type": "code",
   "execution_count": null,
   "metadata": {},
   "outputs": [],
   "source": []
  },
  {
   "cell_type": "code",
   "execution_count": null,
   "metadata": {},
   "outputs": [],
   "source": []
  },
  {
   "cell_type": "code",
   "execution_count": null,
   "metadata": {},
   "outputs": [],
   "source": []
  },
  {
   "cell_type": "markdown",
   "metadata": {},
   "source": [
    "## For LGLL-clonotypes"
   ]
  },
  {
   "cell_type": "code",
   "execution_count": 9,
   "metadata": {},
   "outputs": [
    {
     "name": "stdout",
     "output_type": "stream",
     "text": [
      "InfA_HA_PKY\n",
      "Maximum length for test CDR3s is 20, but the maximum length for the trained model is 19.\n",
      "You need to train a new model with longer sequences to get predictions for all sequences.\n",
      "InfA_M1_GIL\n",
      "CMV_p65_NLV\n",
      "CMV_p65_TPR\n",
      "EBV_BZLF1_RAF\n",
      "CMV_p65_IPS\n",
      "EMB_BRLF1_YVL\n"
     ]
    }
   ],
   "source": [
    "for model, model_name in zip(models, model_names):\n",
    "    print(model_name)\n",
    "    seqs, preds = tcrgp.predict(\"/Users/hru/Dropbox/lgl/results/tcrb/gliph/input_total.txt\", model, \n",
    "                                cdr3b=\"CDR3b\",  \n",
    "                                vb=\"TRBV\", \n",
    "                                delimiter='\\t')\n",
    "    with open(\"/Users/hru/Dropbox/lgl/results/tcrb/tcrgp/results_vdj_\"+model_name+\".csv\", 'w', newline='') as csvfile:\n",
    "        writer = csv.writer(csvfile, delimiter=',')   \n",
    "        writer.writerow(['CDR3B','prediction'])\n",
    "        for s,p in zip(seqs[0],preds):\n",
    "            writer.writerow([s,'{:.4f}'.format(p[0])])"
   ]
  },
  {
   "cell_type": "code",
   "execution_count": null,
   "metadata": {},
   "outputs": [],
   "source": []
  }
 ],
 "metadata": {
  "kernelspec": {
   "display_name": "tf-ENV",
   "language": "python",
   "name": "python-yourenv"
  },
  "language_info": {
   "codemirror_mode": {
    "name": "ipython",
    "version": 3
   },
   "file_extension": ".py",
   "mimetype": "text/x-python",
   "name": "python",
   "nbconvert_exporter": "python",
   "pygments_lexer": "ipython3",
   "version": "3.6.7"
  }
 },
 "nbformat": 4,
 "nbformat_minor": 2
}
